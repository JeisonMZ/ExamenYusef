{
  "nbformat": 4,
  "nbformat_minor": 0,
  "metadata": {
    "colab": {
      "provenance": [],
      "authorship_tag": "ABX9TyPPDwylxSp0obE2l7ShHBEp",
      "include_colab_link": true
    },
    "kernelspec": {
      "name": "python3",
      "display_name": "Python 3"
    },
    "language_info": {
      "name": "python"
    }
  },
  "cells": [
    {
      "cell_type": "markdown",
      "metadata": {
        "id": "view-in-github",
        "colab_type": "text"
      },
      "source": [
        "<a href=\"https://colab.research.google.com/github/JeisonMZ/ExamenYusef/blob/main/Examen.ipynb\" target=\"_parent\"><img src=\"https://colab.research.google.com/assets/colab-badge.svg\" alt=\"Open In Colab\"/></a>"
      ]
    },
    {
      "cell_type": "code",
      "execution_count": 2,
      "metadata": {
        "colab": {
          "base_uri": "https://localhost:8080/"
        },
        "id": "qnOMuvJA-0z5",
        "outputId": "da1f0144-946e-4bbb-9dd9-1b9152176df6"
      },
      "outputs": [
        {
          "output_type": "stream",
          "name": "stdout",
          "text": [
            "[20, 40]\n"
          ]
        }
      ],
      "source": [
        "def listados(a):\n",
        "\n",
        "    Datos = [] # Creamos una lista vacía para almacenar los primeros dos elementos\n",
        "\n",
        "    for i in range(2):  # Solo vamos a recorrer los dos primeros\n",
        "\n",
        "        Datos.append(a[i])\n",
        "\n",
        "    return Datos # regresamos la lista con los dos primeros elementos\n",
        "\n",
        "\n",
        "lista = [20, 40, 60, 80]\n",
        "print(listados(lista))  # resultado: [20, 40]"
      ]
    },
    {
      "cell_type": "code",
      "source": [
        "def obtener_diccionario(lista):\n",
        "    # Accedemos al cuarto elemento de la lista, ya que los datos e,piezan en 0\n",
        "    El_diccionario = lista[3]  # La posición 3 es la del cuarto dato de la lista\n",
        "\n",
        "    return El_diccionario\n",
        "\n",
        "lista = [1, \"Perro\", [1, 2, 3], {\"key\": \"value\"}, 5]\n",
        "print(obtener_diccionario(lista))  #resultado: key value"
      ],
      "metadata": {
        "colab": {
          "base_uri": "https://localhost:8080/"
        },
        "id": "e1VLw8lCAByD",
        "outputId": "e06a228b-54e9-4c2c-983a-550676c11916"
      },
      "execution_count": 4,
      "outputs": [
        {
          "output_type": "stream",
          "name": "stdout",
          "text": [
            "{'key': 'value'}\n"
          ]
        }
      ]
    },
    {
      "cell_type": "code",
      "source": [
        "# Lista de números\n",
        "numeros = [5, 8, 12, 20]\n",
        "\n",
        "suma = 0 # Iniciamos la variable en cero y le vamos sumando\n",
        "\n",
        "for numero in numeros:\n",
        "    suma += numero  # Se suma el número actual al total acumulado\n",
        "\n",
        "# Imprimimos el resultado final de la suma\n",
        "print(suma)  #  resultado 45"
      ],
      "metadata": {
        "colab": {
          "base_uri": "https://localhost:8080/"
        },
        "id": "XhNhm_KRB7qk",
        "outputId": "28a22664-74ab-43f6-aba7-ac9edd8e3864"
      },
      "execution_count": 5,
      "outputs": [
        {
          "output_type": "stream",
          "name": "stdout",
          "text": [
            "45\n"
          ]
        }
      ]
    },
    {
      "cell_type": "code",
      "source": [
        "\n",
        "people = [#Esta es una  lista de diccionarios, cada uno con el nombre su número\n",
        "    {\"name\": \"Carter\", \"number\": \"+1-617-495-1000\"},\n",
        "    {\"name\": \"David\", \"number\": \"+1-617-495-1000\"},\n",
        "    {\"name\": \"John\", \"number\": \"+1-949-468-2750\"}\n",
        "]\n",
        "\n",
        "# Le solicitamos al usuario que ingrese un nombre\n",
        "name = input(\"Name: \")\n",
        "\n",
        "\n",
        "for person in people: # iniciamos  recorriendo cada dato de la lista.\n",
        "    # Si el nombre que ingreso es el mismo  con el nombre en el diccionario\n",
        "    if person[\"name\"] == name:\n",
        "        # y si es el mismo guardamos el número y lo enseñamos\n",
        "        number = person[\"number\"]\n",
        "        print(f\"Found {number}\")\n",
        "        break # salimos del ciclo\n",
        "else:\n",
        "    # Si muestra esta impresion es por que no encontro un nombre igual\n",
        "    print(\"Not found\")\n"
      ],
      "metadata": {
        "colab": {
          "base_uri": "https://localhost:8080/"
        },
        "id": "MQbJsMZYDrgU",
        "outputId": "4d3fc13f-67da-4a3e-c369-18662fc0a2a9"
      },
      "execution_count": 7,
      "outputs": [
        {
          "output_type": "stream",
          "name": "stdout",
          "text": [
            "Name: Carter\n",
            "Found +1-617-495-1000\n"
          ]
        }
      ]
    }
  ]
}